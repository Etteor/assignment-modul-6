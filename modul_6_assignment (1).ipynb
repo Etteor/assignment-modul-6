{
 "cells": [
  {
   "cell_type": "markdown",
   "id": "ede75fd0-8ebc-404c-8b33-440fa772975a",
   "metadata": {},
   "source": [
    "Exercise 2 - Create a markdown cell with the title of the notebook. (1 pt)"
   ]
  },
  {
   "cell_type": "markdown",
   "id": "f89f7340-5bce-435a-a5f7-93a040266e00",
   "metadata": {},
   "source": [
    "# Title of notebook\n"
   ]
  },
  {
   "cell_type": "markdown",
   "id": "bdf17e50-3f59-4426-9697-ec5ee7bd4fab",
   "metadata": {},
   "source": [
    "Exercise 3 - Create a markdown cell for an introduction. (1 pt)"
   ]
  },
  {
   "cell_type": "markdown",
   "id": "66c6a2e8-5989-4d80-9d90-ed6fcdb4f4f9",
   "metadata": {},
   "source": [
    "introduction to jupyter test modul 6"
   ]
  },
  {
   "cell_type": "markdown",
   "id": "cb20e409-efc6-458d-8fdf-e53d89aef638",
   "metadata": {
    "scrolled": true
   },
   "source": [
    "Exercise 4 - Create a markdown cell to list data science languages. (3 pts)"
   ]
  },
  {
   "cell_type": "markdown",
   "id": "3ef7d4f4-2c42-48da-9242-7292d38f32d0",
   "metadata": {},
   "source": [
    "1. Python\n",
    "2. R\n",
    "3. SQL"
   ]
  },
  {
   "cell_type": "markdown",
   "id": "c5e81a2a-73d8-415f-8f4b-047e22a52b22",
   "metadata": {},
   "source": [
    "Exercise 5 - Create a markdown cell to list data science libraries. (3 pts)"
   ]
  },
  {
   "cell_type": "markdown",
   "id": "7719d4e1-659c-4a92-ab60-a66caf6db75e",
   "metadata": {},
   "source": [
    "1. Pandas\n",
    "2. NumPy\n",
    "3. Matplotlib\n",
    "4. Seaborn\n",
    "5. Scikit-learn\n",
    "6. Keras\n",
    "7. TensorFlow\n",
    "8. Pytorch"
   ]
  },
  {
   "cell_type": "markdown",
   "id": "235e332d-d19d-4d85-b655-0e36276f8e38",
   "metadata": {},
   "source": [
    "Exercise 6 - Create a markdown cell with a table of Data Science tools. (3 pts)"
   ]
  },
  {
   "cell_type": "markdown",
   "id": "c23952ba-aa55-4cf2-a4e9-35f8bc9a61ef",
   "metadata": {},
   "source": [
    "|Data Science Tools|\n",
    "|-|\n",
    "|Jupyter Notebooks|\n",
    "|Jupyter Hub|\n",
    "|RStudio|\n",
    "|GitHub|"
   ]
  },
  {
   "cell_type": "markdown",
   "id": "13f0dab3-5bad-42ed-85cf-596e56761710",
   "metadata": {},
   "source": [
    "Exercise 7 - Create a markdown cell introducing arithmetic expression examples. (1 pt)"
   ]
  },
  {
   "cell_type": "markdown",
   "id": "83e3b2c8-68e8-4fbf-b1d4-5055ef70c46e",
   "metadata": {
    "scrolled": true
   },
   "source": [
    "Here are some introducing arithmetic expression esample"
   ]
  },
  {
   "cell_type": "markdown",
   "id": "03c6fe22-778b-4b3b-913e-9f6b3982b823",
   "metadata": {},
   "source": [
    "Exercise 8 - Create a code cell to multiply and add numbers. (2 pts)"
   ]
  },
  {
   "cell_type": "code",
   "execution_count": 5,
   "id": "72408552-1fa0-4f56-a8f9-c58f7c4e606e",
   "metadata": {},
   "outputs": [
    {
     "name": "stdout",
     "output_type": "stream",
     "text": [
      "Result: \n",
      " 17\n"
     ]
    }
   ],
   "source": [
    "#This expression will multiply and then add 2 numbers\n",
    "\n",
    "res_add_and_mul = 3 * 4 + 5\n",
    "\n",
    "print(\"Result: \\n\", res_add_and_mul)  "
   ]
  },
  {
   "cell_type": "markdown",
   "id": "61b66029-519c-4275-9f63-0356c03e7ee6",
   "metadata": {},
   "source": [
    "Exercise 9 - Create a code cell to convert minutes to hours. (2 pts)"
   ]
  },
  {
   "cell_type": "code",
   "execution_count": 3,
   "id": "4cd3a76e-b15a-43c1-9389-9a7df188d11c",
   "metadata": {},
   "outputs": [
    {
     "name": "stdout",
     "output_type": "stream",
     "text": [
      "3.3333333333333335 hours\n"
     ]
    }
   ],
   "source": [
    "#This expression will multiply and then add 2 numbers\n",
    "\n",
    "hours = 200/60\n",
    "print(hours, \"hours\")"
   ]
  },
  {
   "cell_type": "markdown",
   "id": "e3294da5-ebc4-4334-957a-3fad7e32b8b3",
   "metadata": {},
   "source": [
    "Exercise 10 -Insert a markdown cell to list Objectives. (3 pts)"
   ]
  },
  {
   "cell_type": "markdown",
   "id": "6656a1ab-1071-4266-83e3-579b34b6f225",
   "metadata": {},
   "source": [
    "following is a list of objectives"
   ]
  },
  {
   "cell_type": "markdown",
   "id": "109426b4-1a69-439e-a896-7f94f89f1834",
   "metadata": {},
   "source": [
    "#### Objectives\n",
    "\n",
    "- Become Data Scientist\n",
    "- Buy a bottle of wine\n",
    "- Create world peace"
   ]
  },
  {
   "cell_type": "markdown",
   "id": "f18218e1-5a4d-430a-a24b-ef700d271089",
   "metadata": {},
   "source": [
    "Exercise 11 - Create a markdown cell to indicate the Author’s name. (2 pts)"
   ]
  },
  {
   "cell_type": "markdown",
   "id": "d118e1b6-572d-4202-9b9b-acf93572d773",
   "metadata": {},
   "source": [
    "#### Author\n",
    "*Christian R*"
   ]
  },
  {
   "cell_type": "code",
   "execution_count": null,
   "id": "a94d8b05-7903-4ed0-a66b-64ed9675d6da",
   "metadata": {},
   "outputs": [],
   "source": []
  }
 ],
 "metadata": {
  "kernelspec": {
   "display_name": "Python 3 (ipykernel)",
   "language": "python",
   "name": "python3"
  },
  "language_info": {
   "codemirror_mode": {
    "name": "ipython",
    "version": 3
   },
   "file_extension": ".py",
   "mimetype": "text/x-python",
   "name": "python",
   "nbconvert_exporter": "python",
   "pygments_lexer": "ipython3",
   "version": "3.12.9"
  }
 },
 "nbformat": 4,
 "nbformat_minor": 5
}
