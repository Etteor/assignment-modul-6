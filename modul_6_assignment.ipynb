{
 "cells": [
  {
   "cell_type": "markdown",
   "id": "ede75fd0-8ebc-404c-8b33-440fa772975a",
   "metadata": {},
   "source": [
    "Exercise 2 - Create a markdown cell with the title of the notebook. (1 pt)"
   ]
  },
  {
   "cell_type": "markdown",
   "id": "f89f7340-5bce-435a-a5f7-93a040266e00",
   "metadata": {},
   "source": [
    "# Title of notebook\n"
   ]
  },
  {
   "cell_type": "markdown",
   "id": "bdf17e50-3f59-4426-9697-ec5ee7bd4fab",
   "metadata": {},
   "source": [
    "Exercise 3 - Create a markdown cell for an introduction. (1 pt)"
   ]
  },
  {
   "cell_type": "markdown",
   "id": "66c6a2e8-5989-4d80-9d90-ed6fcdb4f4f9",
   "metadata": {},
   "source": [
    "introduction text test 123"
   ]
  },
  {
   "cell_type": "markdown",
   "id": "cb20e409-efc6-458d-8fdf-e53d89aef638",
   "metadata": {
    "scrolled": true
   },
   "source": [
    "Exercise 4 - Create a markdown cell to list data science languages. (3 pts)"
   ]
  },
  {
   "cell_type": "markdown",
   "id": "3ef7d4f4-2c42-48da-9242-7292d38f32d0",
   "metadata": {},
   "source": [
    "- Python\n",
    "- R\n",
    "- SQL"
   ]
  },
  {
   "cell_type": "markdown",
   "id": "c5e81a2a-73d8-415f-8f4b-047e22a52b22",
   "metadata": {},
   "source": [
    "Exercise 5 - Create a markdown cell to list data science libraries. (3 pts)"
   ]
  },
  {
   "cell_type": "markdown",
   "id": "7719d4e1-659c-4a92-ab60-a66caf6db75e",
   "metadata": {},
   "source": [
    "- Pandas\n",
    "- NumPy\n",
    "- Matplotlib\n",
    "- Seaborn\n",
    "- Scikit-learn\n",
    "- Keras\n",
    "- TensorFlow\n",
    "- Pytorch"
   ]
  },
  {
   "cell_type": "markdown",
   "id": "235e332d-d19d-4d85-b655-0e36276f8e38",
   "metadata": {},
   "source": [
    "Exercise 6 - Create a markdown cell with a table of Data Science tools. (3 pts)"
   ]
  },
  {
   "cell_type": "markdown",
   "id": "c23952ba-aa55-4cf2-a4e9-35f8bc9a61ef",
   "metadata": {},
   "source": [
    "|Tool 1|Tool 2|Tool 3|Tool 4|\n",
    "|-|-|-|-|\n",
    "|Jupyter Notebooks|Jupyter Hub|RStudio|GitHub|"
   ]
  },
  {
   "cell_type": "markdown",
   "id": "13f0dab3-5bad-42ed-85cf-596e56761710",
   "metadata": {},
   "source": [
    "Exercise 7 - Create a markdown cell introducing arithmetic expression examples. (1 pt)"
   ]
  },
  {
   "cell_type": "code",
   "execution_count": 2,
   "id": "975966fa-2c2a-4967-9b23-3ce906a20065",
   "metadata": {},
   "outputs": [],
   "source": [
    "a = 7\n",
    "b = 5"
   ]
  },
  {
   "cell_type": "markdown",
   "id": "03c6fe22-778b-4b3b-913e-9f6b3982b823",
   "metadata": {},
   "source": [
    "Exercise 8 - Create a code cell to multiply and add numbers. (2 pts)"
   ]
  },
  {
   "cell_type": "code",
   "execution_count": 8,
   "id": "72408552-1fa0-4f56-a8f9-c58f7c4e606e",
   "metadata": {},
   "outputs": [
    {
     "name": "stdout",
     "output_type": "stream",
     "text": [
      "Addition: \n",
      " 12\n",
      "Multiplication: \n",
      " 35\n"
     ]
    }
   ],
   "source": [
    "res_add = 5 + 7\n",
    "res_mul = 5 * 7\n",
    "\n",
    "print(\"Addition: \\n\", res_add) \n",
    "print(\"Multiplication: \\n\", res_mul) "
   ]
  },
  {
   "cell_type": "markdown",
   "id": "61b66029-519c-4275-9f63-0356c03e7ee6",
   "metadata": {},
   "source": [
    "Exercise 9 - Create a code cell to convert minutes to hours. (2 pts)"
   ]
  },
  {
   "cell_type": "code",
   "execution_count": 13,
   "id": "4cd3a76e-b15a-43c1-9389-9a7df188d11c",
   "metadata": {},
   "outputs": [
    {
     "name": "stdin",
     "output_type": "stream",
     "text": [
      "How many minutes should be converted into hours? 12\n"
     ]
    },
    {
     "name": "stdout",
     "output_type": "stream",
     "text": [
      "12 minutes are 0.2 hours\n"
     ]
    }
   ],
   "source": [
    "minutes = int(input(\"How many minutes should be converted into hours?\"))\n",
    "\n",
    "hours = minutes/60\n",
    "print(minutes, \"minutes are\", hours, \"hours\")"
   ]
  },
  {
   "cell_type": "markdown",
   "id": "e3294da5-ebc4-4334-957a-3fad7e32b8b3",
   "metadata": {},
   "source": [
    "Exercise 10 -Insert a markdown cell to list Objectives. (3 pts)"
   ]
  },
  {
   "cell_type": "markdown",
   "id": "109426b4-1a69-439e-a896-7f94f89f1834",
   "metadata": {},
   "source": [
    "1. Become Data Scientist\n",
    "2. Buy a bottle of wine\n",
    "3. Create world peace"
   ]
  },
  {
   "cell_type": "markdown",
   "id": "f18218e1-5a4d-430a-a24b-ef700d271089",
   "metadata": {},
   "source": [
    "Exercise 11 - Create a markdown cell to indicate the Author’s name. (2 pts)"
   ]
  },
  {
   "cell_type": "markdown",
   "id": "d118e1b6-572d-4202-9b9b-acf93572d773",
   "metadata": {},
   "source": [
    "*Author: Christian R*"
   ]
  },
  {
   "cell_type": "code",
   "execution_count": null,
   "id": "a94d8b05-7903-4ed0-a66b-64ed9675d6da",
   "metadata": {},
   "outputs": [],
   "source": []
  }
 ],
 "metadata": {
  "kernelspec": {
   "display_name": "Python 3 (ipykernel)",
   "language": "python",
   "name": "python3"
  },
  "language_info": {
   "codemirror_mode": {
    "name": "ipython",
    "version": 3
   },
   "file_extension": ".py",
   "mimetype": "text/x-python",
   "name": "python",
   "nbconvert_exporter": "python",
   "pygments_lexer": "ipython3",
   "version": "3.12.9"
  }
 },
 "nbformat": 4,
 "nbformat_minor": 5
}
